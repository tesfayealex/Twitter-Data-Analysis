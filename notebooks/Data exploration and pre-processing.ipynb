{
 "cells": [
  {
   "cell_type": "markdown",
   "metadata": {},
   "source": [
    "# Import Important Modules "
   ]
  },
  {
   "cell_type": "code",
   "execution_count": 1,
   "metadata": {},
   "outputs": [],
   "source": [
    "import pandas as pd\n",
    "import sys\n",
    "import os\n",
    "\n",
    "sys.path.append(os.path.abspath(os.path.join('..')))\n",
    "\n",
    "from extract_dataframe import TweetDfExtractor\n",
    "from extract_dataframe import read_json\n",
    "\n",
    "_, tweet_list = read_json(\"../data/Economic_Twitter_Data.json\")"
   ]
  },
  {
   "cell_type": "markdown",
   "metadata": {},
   "source": [
    "# Initialize Extractor Instance and Get Data"
   ]
  },
  {
   "cell_type": "code",
   "execution_count": 2,
   "metadata": {},
   "outputs": [],
   "source": [
    "tweets_df_extractor = TweetDfExtractor(tweet_list)\n",
    "tweets_df = tweets_df_extractor.get_tweet_df()"
   ]
  },
  {
   "cell_type": "code",
   "execution_count": 3,
   "metadata": {},
   "outputs": [
    {
     "data": {
      "text/html": [
       "<div>\n",
       "<style scoped>\n",
       "    .dataframe tbody tr th:only-of-type {\n",
       "        vertical-align: middle;\n",
       "    }\n",
       "\n",
       "    .dataframe tbody tr th {\n",
       "        vertical-align: top;\n",
       "    }\n",
       "\n",
       "    .dataframe thead th {\n",
       "        text-align: right;\n",
       "    }\n",
       "</style>\n",
       "<table border=\"1\" class=\"dataframe\">\n",
       "  <thead>\n",
       "    <tr style=\"text-align: right;\">\n",
       "      <th></th>\n",
       "      <th>created_at</th>\n",
       "      <th>source</th>\n",
       "      <th>original_text</th>\n",
       "      <th>clean_text</th>\n",
       "      <th>polarity</th>\n",
       "      <th>subjectivity</th>\n",
       "      <th>sentiment</th>\n",
       "      <th>lang</th>\n",
       "      <th>favorite_count</th>\n",
       "      <th>retweet_count</th>\n",
       "      <th>original_author</th>\n",
       "      <th>followers_count</th>\n",
       "      <th>friends_count</th>\n",
       "      <th>possibly_sensitive</th>\n",
       "      <th>hashtags</th>\n",
       "      <th>user_mentions</th>\n",
       "      <th>place</th>\n",
       "    </tr>\n",
       "  </thead>\n",
       "  <tbody>\n",
       "    <tr>\n",
       "      <th>0</th>\n",
       "      <td>Fri Apr 22 22:20:18 +0000 2022</td>\n",
       "      <td>&lt;a href=\"http://twitter.com/download/android\" ...</td>\n",
       "      <td>RT @nikitheblogger: Irre: Annalena Baerbock sa...</td>\n",
       "      <td>RT @nikitheblogger Irre Annalena Baerbock sagt...</td>\n",
       "      <td>0.0</td>\n",
       "      <td>0.0</td>\n",
       "      <td>neutral</td>\n",
       "      <td>de</td>\n",
       "      <td>113</td>\n",
       "      <td>355</td>\n",
       "      <td>McMc74078966</td>\n",
       "      <td>3</td>\n",
       "      <td>12</td>\n",
       "      <td>None</td>\n",
       "      <td></td>\n",
       "      <td>nikitheblogger___</td>\n",
       "      <td>None</td>\n",
       "    </tr>\n",
       "    <tr>\n",
       "      <th>1</th>\n",
       "      <td>Fri Apr 22 22:19:16 +0000 2022</td>\n",
       "      <td>&lt;a href=\"http://twitter.com/download/android\" ...</td>\n",
       "      <td>RT @sagt_mit: Merkel schaffte es in 1 Jahr 1 M...</td>\n",
       "      <td>RT @sagt_mit Merkel schaffte es in 1 Jahr 1 Mi...</td>\n",
       "      <td>0.0</td>\n",
       "      <td>0.0</td>\n",
       "      <td>neutral</td>\n",
       "      <td>de</td>\n",
       "      <td>113</td>\n",
       "      <td>505</td>\n",
       "      <td>McMc74078966</td>\n",
       "      <td>3</td>\n",
       "      <td>12</td>\n",
       "      <td>None</td>\n",
       "      <td></td>\n",
       "      <td>sagt_mit___</td>\n",
       "      <td>None</td>\n",
       "    </tr>\n",
       "    <tr>\n",
       "      <th>2</th>\n",
       "      <td>Fri Apr 22 22:17:28 +0000 2022</td>\n",
       "      <td>&lt;a href=\"http://twitter.com/download/android\" ...</td>\n",
       "      <td>RT @Kryptonoun: @WRi007 Pharma in Lebensmittel...</td>\n",
       "      <td>RT @Kryptonoun @WRi007 Pharma in Lebensmitteln...</td>\n",
       "      <td>0.0</td>\n",
       "      <td>0.0</td>\n",
       "      <td>neutral</td>\n",
       "      <td>de</td>\n",
       "      <td>113</td>\n",
       "      <td>4</td>\n",
       "      <td>McMc74078966</td>\n",
       "      <td>3</td>\n",
       "      <td>12</td>\n",
       "      <td>None</td>\n",
       "      <td></td>\n",
       "      <td>Kryptonoun___WRi007___</td>\n",
       "      <td>None</td>\n",
       "    </tr>\n",
       "    <tr>\n",
       "      <th>3</th>\n",
       "      <td>Fri Apr 22 22:17:20 +0000 2022</td>\n",
       "      <td>&lt;a href=\"http://twitter.com/download/android\" ...</td>\n",
       "      <td>RT @WRi007: Die #Deutschen sind ein braves Vol...</td>\n",
       "      <td>RT @WRi007 Die #Deutschen sind ein braves Volk...</td>\n",
       "      <td>0.0</td>\n",
       "      <td>0.0</td>\n",
       "      <td>neutral</td>\n",
       "      <td>de</td>\n",
       "      <td>113</td>\n",
       "      <td>332</td>\n",
       "      <td>McMc74078966</td>\n",
       "      <td>3</td>\n",
       "      <td>12</td>\n",
       "      <td>None</td>\n",
       "      <td>Deutschen___Spritpreisen___inflation___Abgaben___</td>\n",
       "      <td>WRi007___</td>\n",
       "      <td>None</td>\n",
       "    </tr>\n",
       "    <tr>\n",
       "      <th>4</th>\n",
       "      <td>Fri Apr 22 22:13:15 +0000 2022</td>\n",
       "      <td>&lt;a href=\"http://twitter.com/download/android\" ...</td>\n",
       "      <td>RT @RolandTichy: Baerbock verkündet mal so neb...</td>\n",
       "      <td>RT @RolandTichy Baerbock verkndet mal so neben...</td>\n",
       "      <td>0.0</td>\n",
       "      <td>0.0</td>\n",
       "      <td>neutral</td>\n",
       "      <td>de</td>\n",
       "      <td>113</td>\n",
       "      <td>386</td>\n",
       "      <td>McMc74078966</td>\n",
       "      <td>3</td>\n",
       "      <td>12</td>\n",
       "      <td>None</td>\n",
       "      <td></td>\n",
       "      <td>RolandTichy___</td>\n",
       "      <td>None</td>\n",
       "    </tr>\n",
       "  </tbody>\n",
       "</table>\n",
       "</div>"
      ],
      "text/plain": [
       "                       created_at  \\\n",
       "0  Fri Apr 22 22:20:18 +0000 2022   \n",
       "1  Fri Apr 22 22:19:16 +0000 2022   \n",
       "2  Fri Apr 22 22:17:28 +0000 2022   \n",
       "3  Fri Apr 22 22:17:20 +0000 2022   \n",
       "4  Fri Apr 22 22:13:15 +0000 2022   \n",
       "\n",
       "                                              source  \\\n",
       "0  <a href=\"http://twitter.com/download/android\" ...   \n",
       "1  <a href=\"http://twitter.com/download/android\" ...   \n",
       "2  <a href=\"http://twitter.com/download/android\" ...   \n",
       "3  <a href=\"http://twitter.com/download/android\" ...   \n",
       "4  <a href=\"http://twitter.com/download/android\" ...   \n",
       "\n",
       "                                       original_text  \\\n",
       "0  RT @nikitheblogger: Irre: Annalena Baerbock sa...   \n",
       "1  RT @sagt_mit: Merkel schaffte es in 1 Jahr 1 M...   \n",
       "2  RT @Kryptonoun: @WRi007 Pharma in Lebensmittel...   \n",
       "3  RT @WRi007: Die #Deutschen sind ein braves Vol...   \n",
       "4  RT @RolandTichy: Baerbock verkündet mal so neb...   \n",
       "\n",
       "                                          clean_text  polarity  subjectivity  \\\n",
       "0  RT @nikitheblogger Irre Annalena Baerbock sagt...       0.0           0.0   \n",
       "1  RT @sagt_mit Merkel schaffte es in 1 Jahr 1 Mi...       0.0           0.0   \n",
       "2  RT @Kryptonoun @WRi007 Pharma in Lebensmitteln...       0.0           0.0   \n",
       "3  RT @WRi007 Die #Deutschen sind ein braves Volk...       0.0           0.0   \n",
       "4  RT @RolandTichy Baerbock verkndet mal so neben...       0.0           0.0   \n",
       "\n",
       "  sentiment lang  favorite_count  retweet_count original_author  \\\n",
       "0   neutral   de             113            355    McMc74078966   \n",
       "1   neutral   de             113            505    McMc74078966   \n",
       "2   neutral   de             113              4    McMc74078966   \n",
       "3   neutral   de             113            332    McMc74078966   \n",
       "4   neutral   de             113            386    McMc74078966   \n",
       "\n",
       "   followers_count  friends_count possibly_sensitive  \\\n",
       "0                3             12               None   \n",
       "1                3             12               None   \n",
       "2                3             12               None   \n",
       "3                3             12               None   \n",
       "4                3             12               None   \n",
       "\n",
       "                                            hashtags           user_mentions  \\\n",
       "0                                                          nikitheblogger___   \n",
       "1                                                                sagt_mit___   \n",
       "2                                                     Kryptonoun___WRi007___   \n",
       "3  Deutschen___Spritpreisen___inflation___Abgaben___               WRi007___   \n",
       "4                                                             RolandTichy___   \n",
       "\n",
       "  place  \n",
       "0  None  \n",
       "1  None  \n",
       "2  None  \n",
       "3  None  \n",
       "4  None  "
      ]
     },
     "execution_count": 3,
     "metadata": {},
     "output_type": "execute_result"
    }
   ],
   "source": [
    "tweets_df.head()"
   ]
  },
  {
   "cell_type": "markdown",
   "metadata": {},
   "source": [
    "# Initialize Tweet Data Cleaner"
   ]
  },
  {
   "cell_type": "code",
   "execution_count": 4,
   "metadata": {},
   "outputs": [
    {
     "name": "stdout",
     "output_type": "stream",
     "text": [
      "Automation in Action...!!!\n"
     ]
    }
   ],
   "source": [
    "from clean_tweets_dataframe import Clean_Tweets\n",
    "clean_tweets = Clean_Tweets(tweets_df)"
   ]
  },
  {
   "cell_type": "markdown",
   "metadata": {},
   "source": [
    "# Drop Duplicates"
   ]
  },
  {
   "cell_type": "code",
   "execution_count": 5,
   "metadata": {},
   "outputs": [
    {
     "data": {
      "text/plain": [
       "(24625, 17)"
      ]
     },
     "execution_count": 5,
     "metadata": {},
     "output_type": "execute_result"
    }
   ],
   "source": [
    "tweets_df = clean_tweets.drop_duplicate(tweets_df)\n",
    "tweets_df.shape"
   ]
  },
  {
   "cell_type": "markdown",
   "metadata": {},
   "source": [
    "# Remove Non English"
   ]
  },
  {
   "cell_type": "code",
   "execution_count": 6,
   "metadata": {},
   "outputs": [
    {
     "data": {
      "text/plain": [
       "(16472, 17)"
      ]
     },
     "execution_count": 6,
     "metadata": {},
     "output_type": "execute_result"
    }
   ],
   "source": [
    "tweets_df = clean_tweets.remove_non_english_tweets(tweets_df)\n",
    "tweets_df.shape"
   ]
  },
  {
   "cell_type": "code",
   "execution_count": 7,
   "metadata": {},
   "outputs": [
    {
     "data": {
      "text/plain": [
       "created_at                0\n",
       "source                    0\n",
       "original_text             0\n",
       "clean_text                0\n",
       "polarity                  0\n",
       "subjectivity              0\n",
       "sentiment                 0\n",
       "lang                      0\n",
       "favorite_count            0\n",
       "retweet_count             0\n",
       "original_author           0\n",
       "followers_count           0\n",
       "friends_count             0\n",
       "possibly_sensitive    10266\n",
       "hashtags                  0\n",
       "user_mentions             0\n",
       "place                  5707\n",
       "dtype: int64"
      ]
     },
     "execution_count": 7,
     "metadata": {},
     "output_type": "execute_result"
    }
   ],
   "source": [
    "tweets_df.isna().sum()"
   ]
  },
  {
   "cell_type": "markdown",
   "metadata": {},
   "source": [
    "# Handle Missing Data"
   ]
  },
  {
   "cell_type": "code",
   "execution_count": 8,
   "metadata": {},
   "outputs": [
    {
     "data": {
      "text/plain": [
       "created_at            0\n",
       "source                0\n",
       "original_text         0\n",
       "clean_text            0\n",
       "polarity              0\n",
       "subjectivity          0\n",
       "sentiment             0\n",
       "lang                  0\n",
       "favorite_count        0\n",
       "retweet_count         0\n",
       "original_author       0\n",
       "followers_count       0\n",
       "friends_count         0\n",
       "possibly_sensitive    0\n",
       "hashtags              0\n",
       "user_mentions         0\n",
       "place                 0\n",
       "dtype: int64"
      ]
     },
     "execution_count": 8,
     "metadata": {},
     "output_type": "execute_result"
    }
   ],
   "source": [
    "tweets_df['possibly_sensitive'] = tweets_df['possibly_sensitive'].fillna(\"not_found\")\n",
    "tweets_df['place'] = tweets_df['place'].fillna(\"not_known\")\n",
    "tweets_df.isna().sum()"
   ]
  },
  {
   "cell_type": "markdown",
   "metadata": {},
   "source": [
    "# Remove Unwanted Characters"
   ]
  },
  {
   "cell_type": "code",
   "execution_count": 9,
   "metadata": {},
   "outputs": [
    {
     "data": {
      "text/plain": [
       "created_at            0\n",
       "source                0\n",
       "original_text         0\n",
       "clean_text            0\n",
       "polarity              0\n",
       "subjectivity          0\n",
       "sentiment             0\n",
       "lang                  0\n",
       "favorite_count        0\n",
       "retweet_count         0\n",
       "original_author       0\n",
       "followers_count       0\n",
       "friends_count         0\n",
       "possibly_sensitive    0\n",
       "hashtags              0\n",
       "user_mentions         0\n",
       "place                 0\n",
       "dtype: int64"
      ]
     },
     "execution_count": 9,
     "metadata": {},
     "output_type": "execute_result"
    }
   ],
   "source": [
    "tweets_df = clean_tweets.remove_place_characters(tweets_df)\n",
    "tweets_df.isna().sum()"
   ]
  },
  {
   "cell_type": "code",
   "execution_count": 10,
   "metadata": {},
   "outputs": [
    {
     "data": {
      "text/plain": [
       "created_at            0\n",
       "source                0\n",
       "original_text         0\n",
       "clean_text            0\n",
       "polarity              0\n",
       "subjectivity          0\n",
       "sentiment             0\n",
       "lang                  0\n",
       "favorite_count        0\n",
       "retweet_count         0\n",
       "original_author       0\n",
       "followers_count       0\n",
       "friends_count         0\n",
       "possibly_sensitive    0\n",
       "hashtags              0\n",
       "user_mentions         0\n",
       "place                 0\n",
       "dtype: int64"
      ]
     },
     "execution_count": 10,
     "metadata": {},
     "output_type": "execute_result"
    }
   ],
   "source": [
    "tweets_df['place'] = tweets_df['place'].fillna(\"not_known\")\n",
    "tweets_df.isna().sum()"
   ]
  },
  {
   "cell_type": "markdown",
   "metadata": {},
   "source": [
    "# Convert Date Time"
   ]
  },
  {
   "cell_type": "code",
   "execution_count": 11,
   "metadata": {},
   "outputs": [
    {
     "name": "stdout",
     "output_type": "stream",
     "text": [
      "<class 'pandas.core.frame.DataFrame'>\n",
      "Int64Index: 16374 entries, 38 to 24622\n",
      "Data columns (total 17 columns):\n",
      " #   Column              Non-Null Count  Dtype              \n",
      "---  ------              --------------  -----              \n",
      " 0   created_at          16374 non-null  datetime64[ns, UTC]\n",
      " 1   source              16374 non-null  object             \n",
      " 2   original_text       16374 non-null  object             \n",
      " 3   clean_text          16374 non-null  object             \n",
      " 4   polarity            16374 non-null  float64            \n",
      " 5   subjectivity        16374 non-null  float64            \n",
      " 6   sentiment           16374 non-null  object             \n",
      " 7   lang                16374 non-null  object             \n",
      " 8   favorite_count      16374 non-null  int64              \n",
      " 9   retweet_count       16374 non-null  int64              \n",
      " 10  original_author     16374 non-null  object             \n",
      " 11  followers_count     16374 non-null  int64              \n",
      " 12  friends_count       16374 non-null  int64              \n",
      " 13  possibly_sensitive  16374 non-null  object             \n",
      " 14  hashtags            16374 non-null  object             \n",
      " 15  user_mentions       16374 non-null  object             \n",
      " 16  place               16374 non-null  object             \n",
      "dtypes: datetime64[ns, UTC](1), float64(2), int64(4), object(10)\n",
      "memory usage: 2.2+ MB\n"
     ]
    }
   ],
   "source": [
    "tweets_df = clean_tweets.convert_to_datetime(tweets_df)\n",
    "tweets_df.info()\n"
   ]
  },
  {
   "cell_type": "markdown",
   "metadata": {},
   "source": [
    "# Clean Sorce Device Data"
   ]
  },
  {
   "cell_type": "code",
   "execution_count": 12,
   "metadata": {},
   "outputs": [
    {
     "data": {
      "text/html": [
       "<div>\n",
       "<style scoped>\n",
       "    .dataframe tbody tr th:only-of-type {\n",
       "        vertical-align: middle;\n",
       "    }\n",
       "\n",
       "    .dataframe tbody tr th {\n",
       "        vertical-align: top;\n",
       "    }\n",
       "\n",
       "    .dataframe thead th {\n",
       "        text-align: right;\n",
       "    }\n",
       "</style>\n",
       "<table border=\"1\" class=\"dataframe\">\n",
       "  <thead>\n",
       "    <tr style=\"text-align: right;\">\n",
       "      <th></th>\n",
       "      <th>created_at</th>\n",
       "      <th>source</th>\n",
       "      <th>original_text</th>\n",
       "      <th>clean_text</th>\n",
       "      <th>polarity</th>\n",
       "      <th>subjectivity</th>\n",
       "      <th>sentiment</th>\n",
       "      <th>lang</th>\n",
       "      <th>favorite_count</th>\n",
       "      <th>retweet_count</th>\n",
       "      <th>original_author</th>\n",
       "      <th>followers_count</th>\n",
       "      <th>friends_count</th>\n",
       "      <th>possibly_sensitive</th>\n",
       "      <th>hashtags</th>\n",
       "      <th>user_mentions</th>\n",
       "      <th>place</th>\n",
       "    </tr>\n",
       "  </thead>\n",
       "  <tbody>\n",
       "    <tr>\n",
       "      <th>38</th>\n",
       "      <td>2022-04-22 22:17:05+00:00</td>\n",
       "      <td>Twitter for Android</td>\n",
       "      <td>RT @NorthstarCharts: The 10-year yield is tell...</td>\n",
       "      <td>RT @NorthstarCharts The 10year yield is tellin...</td>\n",
       "      <td>0.16</td>\n",
       "      <td>0.540000</td>\n",
       "      <td>positive</td>\n",
       "      <td>en</td>\n",
       "      <td>12179</td>\n",
       "      <td>43</td>\n",
       "      <td>davideiacovozzi</td>\n",
       "      <td>18</td>\n",
       "      <td>55</td>\n",
       "      <td>not_found</td>\n",
       "      <td>gold___silver___crypto___</td>\n",
       "      <td>NorthstarCharts___</td>\n",
       "      <td>not_known</td>\n",
       "    </tr>\n",
       "    <tr>\n",
       "      <th>39</th>\n",
       "      <td>2022-04-22 13:44:53+00:00</td>\n",
       "      <td>Twitter for Android</td>\n",
       "      <td>RT @MichaelAArouet: German 10y mortgage rate w...</td>\n",
       "      <td>RT @MichaelAArouet German 10y mortgage rate we...</td>\n",
       "      <td>0.15</td>\n",
       "      <td>0.175000</td>\n",
       "      <td>positive</td>\n",
       "      <td>en</td>\n",
       "      <td>12179</td>\n",
       "      <td>32</td>\n",
       "      <td>davideiacovozzi</td>\n",
       "      <td>18</td>\n",
       "      <td>55</td>\n",
       "      <td>not_found</td>\n",
       "      <td></td>\n",
       "      <td>MichaelAArouet___</td>\n",
       "      <td>not_known</td>\n",
       "    </tr>\n",
       "    <tr>\n",
       "      <th>41</th>\n",
       "      <td>2022-04-22 06:10:34+00:00</td>\n",
       "      <td>Twitter for Android</td>\n",
       "      <td>RT @goldseek: When? https://t.co/kO2FfHKaZg</td>\n",
       "      <td>RT @goldseek When httpstcokO2FfHKaZg</td>\n",
       "      <td>0.00</td>\n",
       "      <td>0.000000</td>\n",
       "      <td>neutral</td>\n",
       "      <td>en</td>\n",
       "      <td>12179</td>\n",
       "      <td>26</td>\n",
       "      <td>davideiacovozzi</td>\n",
       "      <td>18</td>\n",
       "      <td>55</td>\n",
       "      <td>False</td>\n",
       "      <td></td>\n",
       "      <td>goldseek___</td>\n",
       "      <td>not_known</td>\n",
       "    </tr>\n",
       "    <tr>\n",
       "      <th>42</th>\n",
       "      <td>2022-04-21 17:22:09+00:00</td>\n",
       "      <td>Twitter for Android</td>\n",
       "      <td>RT @charliebilello: The 30-year mortgage rate ...</td>\n",
       "      <td>RT @charliebilello The 30year mortgage rate in...</td>\n",
       "      <td>0.00</td>\n",
       "      <td>0.183333</td>\n",
       "      <td>neutral</td>\n",
       "      <td>en</td>\n",
       "      <td>12179</td>\n",
       "      <td>213</td>\n",
       "      <td>davideiacovozzi</td>\n",
       "      <td>18</td>\n",
       "      <td>55</td>\n",
       "      <td>not_found</td>\n",
       "      <td></td>\n",
       "      <td>charliebilello___</td>\n",
       "      <td>not_known</td>\n",
       "    </tr>\n",
       "    <tr>\n",
       "      <th>43</th>\n",
       "      <td>2022-04-21 10:32:26+00:00</td>\n",
       "      <td>Twitter for Android</td>\n",
       "      <td>RT @biancoresearch: Rates rise until something...</td>\n",
       "      <td>RT @biancoresearch Rates rise until something ...</td>\n",
       "      <td>-0.40</td>\n",
       "      <td>0.400000</td>\n",
       "      <td>negative</td>\n",
       "      <td>en</td>\n",
       "      <td>12179</td>\n",
       "      <td>417</td>\n",
       "      <td>davideiacovozzi</td>\n",
       "      <td>18</td>\n",
       "      <td>55</td>\n",
       "      <td>False</td>\n",
       "      <td></td>\n",
       "      <td>biancoresearch___</td>\n",
       "      <td>not_known</td>\n",
       "    </tr>\n",
       "  </tbody>\n",
       "</table>\n",
       "</div>"
      ],
      "text/plain": [
       "                  created_at               source  \\\n",
       "38 2022-04-22 22:17:05+00:00  Twitter for Android   \n",
       "39 2022-04-22 13:44:53+00:00  Twitter for Android   \n",
       "41 2022-04-22 06:10:34+00:00  Twitter for Android   \n",
       "42 2022-04-21 17:22:09+00:00  Twitter for Android   \n",
       "43 2022-04-21 10:32:26+00:00  Twitter for Android   \n",
       "\n",
       "                                        original_text  \\\n",
       "38  RT @NorthstarCharts: The 10-year yield is tell...   \n",
       "39  RT @MichaelAArouet: German 10y mortgage rate w...   \n",
       "41        RT @goldseek: When? https://t.co/kO2FfHKaZg   \n",
       "42  RT @charliebilello: The 30-year mortgage rate ...   \n",
       "43  RT @biancoresearch: Rates rise until something...   \n",
       "\n",
       "                                           clean_text  polarity  subjectivity  \\\n",
       "38  RT @NorthstarCharts The 10year yield is tellin...      0.16      0.540000   \n",
       "39  RT @MichaelAArouet German 10y mortgage rate we...      0.15      0.175000   \n",
       "41               RT @goldseek When httpstcokO2FfHKaZg      0.00      0.000000   \n",
       "42  RT @charliebilello The 30year mortgage rate in...      0.00      0.183333   \n",
       "43  RT @biancoresearch Rates rise until something ...     -0.40      0.400000   \n",
       "\n",
       "   sentiment lang  favorite_count  retweet_count  original_author  \\\n",
       "38  positive   en           12179             43  davideiacovozzi   \n",
       "39  positive   en           12179             32  davideiacovozzi   \n",
       "41   neutral   en           12179             26  davideiacovozzi   \n",
       "42   neutral   en           12179            213  davideiacovozzi   \n",
       "43  negative   en           12179            417  davideiacovozzi   \n",
       "\n",
       "    followers_count  friends_count possibly_sensitive  \\\n",
       "38               18             55          not_found   \n",
       "39               18             55          not_found   \n",
       "41               18             55              False   \n",
       "42               18             55          not_found   \n",
       "43               18             55              False   \n",
       "\n",
       "                     hashtags       user_mentions      place  \n",
       "38  gold___silver___crypto___  NorthstarCharts___  not_known  \n",
       "39                              MichaelAArouet___  not_known  \n",
       "41                                    goldseek___  not_known  \n",
       "42                              charliebilello___  not_known  \n",
       "43                              biancoresearch___  not_known  "
      ]
     },
     "execution_count": 12,
     "metadata": {},
     "output_type": "execute_result"
    }
   ],
   "source": [
    "import re\n",
    "tweets_df[\"source\"] = tweets_df[\"source\"].apply(clean_tweets.extract_twitter_source)\n",
    "tweets_df.head()"
   ]
  },
  {
   "cell_type": "markdown",
   "metadata": {},
   "source": [
    "# Save pre processing data"
   ]
  },
  {
   "cell_type": "code",
   "execution_count": 13,
   "metadata": {},
   "outputs": [],
   "source": [
    "tweets_df.to_csv(\"../data/processed_data_tweets.csv\", index=False)"
   ]
  },
  {
   "cell_type": "markdown",
   "metadata": {},
   "source": [
    "# Data Exploration"
   ]
  },
  {
   "cell_type": "code",
   "execution_count": 15,
   "metadata": {},
   "outputs": [
    {
     "data": {
      "text/html": [
       "<div>\n",
       "<style scoped>\n",
       "    .dataframe tbody tr th:only-of-type {\n",
       "        vertical-align: middle;\n",
       "    }\n",
       "\n",
       "    .dataframe tbody tr th {\n",
       "        vertical-align: top;\n",
       "    }\n",
       "\n",
       "    .dataframe thead th {\n",
       "        text-align: right;\n",
       "    }\n",
       "</style>\n",
       "<table border=\"1\" class=\"dataframe\">\n",
       "  <thead>\n",
       "    <tr style=\"text-align: right;\">\n",
       "      <th></th>\n",
       "      <th>created_at</th>\n",
       "      <th>source</th>\n",
       "      <th>original_text</th>\n",
       "      <th>clean_text</th>\n",
       "      <th>polarity</th>\n",
       "      <th>subjectivity</th>\n",
       "      <th>sentiment</th>\n",
       "      <th>lang</th>\n",
       "      <th>favorite_count</th>\n",
       "      <th>retweet_count</th>\n",
       "      <th>original_author</th>\n",
       "      <th>followers_count</th>\n",
       "      <th>friends_count</th>\n",
       "      <th>possibly_sensitive</th>\n",
       "      <th>hashtags</th>\n",
       "      <th>user_mentions</th>\n",
       "      <th>place</th>\n",
       "    </tr>\n",
       "  </thead>\n",
       "  <tbody>\n",
       "    <tr>\n",
       "      <th>0</th>\n",
       "      <td>2022-04-22 22:17:05+00:00</td>\n",
       "      <td>Twitter for Android</td>\n",
       "      <td>RT @NorthstarCharts: The 10-year yield is tell...</td>\n",
       "      <td>RT @NorthstarCharts The 10year yield is tellin...</td>\n",
       "      <td>0.16</td>\n",
       "      <td>0.540000</td>\n",
       "      <td>positive</td>\n",
       "      <td>en</td>\n",
       "      <td>12179</td>\n",
       "      <td>43</td>\n",
       "      <td>davideiacovozzi</td>\n",
       "      <td>18</td>\n",
       "      <td>55</td>\n",
       "      <td>not_found</td>\n",
       "      <td>gold___silver___crypto___</td>\n",
       "      <td>NorthstarCharts___</td>\n",
       "      <td>not_known</td>\n",
       "    </tr>\n",
       "    <tr>\n",
       "      <th>1</th>\n",
       "      <td>2022-04-22 13:44:53+00:00</td>\n",
       "      <td>Twitter for Android</td>\n",
       "      <td>RT @MichaelAArouet: German 10y mortgage rate w...</td>\n",
       "      <td>RT @MichaelAArouet German 10y mortgage rate we...</td>\n",
       "      <td>0.15</td>\n",
       "      <td>0.175000</td>\n",
       "      <td>positive</td>\n",
       "      <td>en</td>\n",
       "      <td>12179</td>\n",
       "      <td>32</td>\n",
       "      <td>davideiacovozzi</td>\n",
       "      <td>18</td>\n",
       "      <td>55</td>\n",
       "      <td>not_found</td>\n",
       "      <td></td>\n",
       "      <td>MichaelAArouet___</td>\n",
       "      <td>not_known</td>\n",
       "    </tr>\n",
       "    <tr>\n",
       "      <th>2</th>\n",
       "      <td>2022-04-22 06:10:34+00:00</td>\n",
       "      <td>Twitter for Android</td>\n",
       "      <td>RT @goldseek: When? https://t.co/kO2FfHKaZg</td>\n",
       "      <td>RT @goldseek When httpstcokO2FfHKaZg</td>\n",
       "      <td>0.00</td>\n",
       "      <td>0.000000</td>\n",
       "      <td>neutral</td>\n",
       "      <td>en</td>\n",
       "      <td>12179</td>\n",
       "      <td>26</td>\n",
       "      <td>davideiacovozzi</td>\n",
       "      <td>18</td>\n",
       "      <td>55</td>\n",
       "      <td>False</td>\n",
       "      <td></td>\n",
       "      <td>goldseek___</td>\n",
       "      <td>not_known</td>\n",
       "    </tr>\n",
       "    <tr>\n",
       "      <th>3</th>\n",
       "      <td>2022-04-21 17:22:09+00:00</td>\n",
       "      <td>Twitter for Android</td>\n",
       "      <td>RT @charliebilello: The 30-year mortgage rate ...</td>\n",
       "      <td>RT @charliebilello The 30year mortgage rate in...</td>\n",
       "      <td>0.00</td>\n",
       "      <td>0.183333</td>\n",
       "      <td>neutral</td>\n",
       "      <td>en</td>\n",
       "      <td>12179</td>\n",
       "      <td>213</td>\n",
       "      <td>davideiacovozzi</td>\n",
       "      <td>18</td>\n",
       "      <td>55</td>\n",
       "      <td>not_found</td>\n",
       "      <td></td>\n",
       "      <td>charliebilello___</td>\n",
       "      <td>not_known</td>\n",
       "    </tr>\n",
       "    <tr>\n",
       "      <th>4</th>\n",
       "      <td>2022-04-21 10:32:26+00:00</td>\n",
       "      <td>Twitter for Android</td>\n",
       "      <td>RT @biancoresearch: Rates rise until something...</td>\n",
       "      <td>RT @biancoresearch Rates rise until something ...</td>\n",
       "      <td>-0.40</td>\n",
       "      <td>0.400000</td>\n",
       "      <td>negative</td>\n",
       "      <td>en</td>\n",
       "      <td>12179</td>\n",
       "      <td>417</td>\n",
       "      <td>davideiacovozzi</td>\n",
       "      <td>18</td>\n",
       "      <td>55</td>\n",
       "      <td>False</td>\n",
       "      <td></td>\n",
       "      <td>biancoresearch___</td>\n",
       "      <td>not_known</td>\n",
       "    </tr>\n",
       "  </tbody>\n",
       "</table>\n",
       "</div>"
      ],
      "text/plain": [
       "                  created_at               source  \\\n",
       "0  2022-04-22 22:17:05+00:00  Twitter for Android   \n",
       "1  2022-04-22 13:44:53+00:00  Twitter for Android   \n",
       "2  2022-04-22 06:10:34+00:00  Twitter for Android   \n",
       "3  2022-04-21 17:22:09+00:00  Twitter for Android   \n",
       "4  2022-04-21 10:32:26+00:00  Twitter for Android   \n",
       "\n",
       "                                       original_text  \\\n",
       "0  RT @NorthstarCharts: The 10-year yield is tell...   \n",
       "1  RT @MichaelAArouet: German 10y mortgage rate w...   \n",
       "2        RT @goldseek: When? https://t.co/kO2FfHKaZg   \n",
       "3  RT @charliebilello: The 30-year mortgage rate ...   \n",
       "4  RT @biancoresearch: Rates rise until something...   \n",
       "\n",
       "                                          clean_text  polarity  subjectivity  \\\n",
       "0  RT @NorthstarCharts The 10year yield is tellin...      0.16      0.540000   \n",
       "1  RT @MichaelAArouet German 10y mortgage rate we...      0.15      0.175000   \n",
       "2               RT @goldseek When httpstcokO2FfHKaZg      0.00      0.000000   \n",
       "3  RT @charliebilello The 30year mortgage rate in...      0.00      0.183333   \n",
       "4  RT @biancoresearch Rates rise until something ...     -0.40      0.400000   \n",
       "\n",
       "  sentiment lang  favorite_count  retweet_count  original_author  \\\n",
       "0  positive   en           12179             43  davideiacovozzi   \n",
       "1  positive   en           12179             32  davideiacovozzi   \n",
       "2   neutral   en           12179             26  davideiacovozzi   \n",
       "3   neutral   en           12179            213  davideiacovozzi   \n",
       "4  negative   en           12179            417  davideiacovozzi   \n",
       "\n",
       "   followers_count  friends_count possibly_sensitive  \\\n",
       "0               18             55          not_found   \n",
       "1               18             55          not_found   \n",
       "2               18             55              False   \n",
       "3               18             55          not_found   \n",
       "4               18             55              False   \n",
       "\n",
       "                    hashtags       user_mentions      place  \n",
       "0  gold___silver___crypto___  NorthstarCharts___  not_known  \n",
       "1                              MichaelAArouet___  not_known  \n",
       "2                                    goldseek___  not_known  \n",
       "3                              charliebilello___  not_known  \n",
       "4                              biancoresearch___  not_known  "
      ]
     },
     "execution_count": 15,
     "metadata": {},
     "output_type": "execute_result"
    }
   ],
   "source": [
    "tweets_df = pd.read_csv(\"../data/processed_data_tweets.csv\")\n",
    "tweets_df.head()"
   ]
  },
  {
   "cell_type": "code",
   "execution_count": 16,
   "metadata": {},
   "outputs": [
    {
     "name": "stdout",
     "output_type": "stream",
     "text": [
      "<class 'pandas.core.frame.DataFrame'>\n",
      "RangeIndex: 16374 entries, 0 to 16373\n",
      "Data columns (total 17 columns):\n",
      " #   Column              Non-Null Count  Dtype  \n",
      "---  ------              --------------  -----  \n",
      " 0   created_at          16374 non-null  object \n",
      " 1   source              16374 non-null  object \n",
      " 2   original_text       16374 non-null  object \n",
      " 3   clean_text          16374 non-null  object \n",
      " 4   polarity            16374 non-null  float64\n",
      " 5   subjectivity        16374 non-null  float64\n",
      " 6   sentiment           16374 non-null  object \n",
      " 7   lang                16374 non-null  object \n",
      " 8   favorite_count      16374 non-null  int64  \n",
      " 9   retweet_count       16374 non-null  int64  \n",
      " 10  original_author     16374 non-null  object \n",
      " 11  followers_count     16374 non-null  int64  \n",
      " 12  friends_count       16374 non-null  int64  \n",
      " 13  possibly_sensitive  16374 non-null  object \n",
      " 14  hashtags            16374 non-null  object \n",
      " 15  user_mentions       16374 non-null  object \n",
      " 16  place               16361 non-null  object \n",
      "dtypes: float64(2), int64(4), object(11)\n",
      "memory usage: 2.1+ MB\n"
     ]
    }
   ],
   "source": [
    "tweets_df.info()"
   ]
  },
  {
   "cell_type": "code",
   "execution_count": 17,
   "metadata": {},
   "outputs": [
    {
     "data": {
      "text/plain": [
       "created_at             0\n",
       "source                 0\n",
       "original_text          0\n",
       "clean_text             0\n",
       "polarity               0\n",
       "subjectivity           0\n",
       "sentiment              0\n",
       "lang                   0\n",
       "favorite_count         0\n",
       "retweet_count          0\n",
       "original_author        0\n",
       "followers_count        0\n",
       "friends_count          0\n",
       "possibly_sensitive     0\n",
       "hashtags               0\n",
       "user_mentions          0\n",
       "place                 13\n",
       "dtype: int64"
      ]
     },
     "execution_count": 17,
     "metadata": {},
     "output_type": "execute_result"
    }
   ],
   "source": [
    "tweets_df.isna().sum()"
   ]
  },
  {
   "cell_type": "markdown",
   "metadata": {},
   "source": [
    "# Source Plot"
   ]
  },
  {
   "cell_type": "code",
   "execution_count": 18,
   "metadata": {},
   "outputs": [
    {
     "data": {
      "image/png": "[encoded data removed]",
      "text/plain": [
       "<Figure size 432x288 with 1 Axes>"
      ]
     },
     "metadata": {
      "needs_background": "light"
     },
     "output_type": "display_data"
    }
   ],
   "source": [
    "tweets_df[\"source\"].value_counts().head(20).plot(kind=\"bar\");"
   ]
  },
  {
   "cell_type": "markdown",
   "metadata": {},
   "source": [
    "# Retweet Count Plot"
   ]
  },
  {
   "cell_type": "code",
   "execution_count": 19,
   "metadata": {},
   "outputs": [
    {
     "data": {
      "text/plain": [
       "<matplotlib.axes._subplots.AxesSubplot at 0x1874fc4d1c0>"
      ]
     },
     "execution_count": 19,
     "metadata": {},
     "output_type": "execute_result"
    },
    {
     "data": {
      "image/png": "[encoded data removed]",
      "text/plain": [
       "<Figure size 432x288 with 1 Axes>"
      ]
     },
     "metadata": {
      "needs_background": "light"
     },
     "output_type": "display_data"
    }
   ],
   "source": [
    "tweets_df['retweet_count'].value_counts().head(20).plot(kind=\"bar\")"
   ]
  },
  {
   "cell_type": "markdown",
   "metadata": {},
   "source": [
    "# Original Author Plot"
   ]
  },
  {
   "cell_type": "code",
   "execution_count": 20,
   "metadata": {},
   "outputs": [
    {
     "data": {
      "image/png": "[encoded data removed]",
      "text/plain": [
       "<Figure size 432x288 with 1 Axes>"
      ]
     },
     "metadata": {},
     "output_type": "display_data"
    }
   ],
   "source": [
    "tweets_df['original_author'].value_counts().head(10).plot(kind=\"pie\");"
   ]
  },
  {
   "cell_type": "markdown",
   "metadata": {},
   "source": [
    "# Place Plot"
   ]
  },
  {
   "cell_type": "code",
   "execution_count": 21,
   "metadata": {},
   "outputs": [
    {
     "data": {
      "image/png": "[encoded data removed]",
      "text/plain": [
       "<Figure size 432x288 with 1 Axes>"
      ]
     },
     "metadata": {},
     "output_type": "display_data"
    }
   ],
   "source": [
    "tweets_df['place'].value_counts().head(10).plot(kind=\"pie\");"
   ]
  },
  {
   "cell_type": "markdown",
   "metadata": {},
   "source": [
    "# Sentiment Plot"
   ]
  },
  {
   "cell_type": "code",
   "execution_count": 22,
   "metadata": {},
   "outputs": [
    {
     "data": {
      "image/png": "[encoded data removed]",
      "text/plain": [
       "<Figure size 432x288 with 1 Axes>"
      ]
     },
     "metadata": {},
     "output_type": "display_data"
    }
   ],
   "source": [
    "tweets_df[\"sentiment\"].value_counts().head(20).plot(kind=\"pie\");"
   ]
  },
  {
   "cell_type": "code",
   "execution_count": 23,
   "metadata": {},
   "outputs": [
    {
     "data": {
      "text/plain": [
       "neutral     7414\n",
       "positive    6289\n",
       "negative    2671\n",
       "Name: sentiment, dtype: int64"
      ]
     },
     "execution_count": 23,
     "metadata": {},
     "output_type": "execute_result"
    }
   ],
   "source": [
    "tweets_df[\"sentiment\"].value_counts()"
   ]
  },
  {
   "cell_type": "code",
   "execution_count": 24,
   "metadata": {},
   "outputs": [
    {
     "data": {
      "image/png": "[encoded data removed]",
      "text/plain": [
       "<Figure size 432x288 with 1 Axes>"
      ]
     },
     "metadata": {},
     "output_type": "display_data"
    }
   ],
   "source": [
    "tweets_df[\"sentiment\"].value_counts().plot(kind=\"pie\");"
   ]
  },
  {
   "cell_type": "markdown",
   "metadata": {},
   "source": [
    "# Hashtags plot"
   ]
  },
  {
   "cell_type": "code",
   "execution_count": 25,
   "metadata": {},
   "outputs": [
    {
     "data": {
      "text/plain": [
       "MarvinInu          332\n",
       "inflation          184\n",
       "Ukraine            121\n",
       "gold               113\n",
       "Marvin             111\n",
       "                  ... \n",
       "Sweden               1\n",
       "goinggreen           1\n",
       "HorsinAround         1\n",
       "MKStalin4PM2024      1\n",
       "transportation       1\n",
       "Name: hashtags, Length: 4063, dtype: int64"
      ]
     },
     "execution_count": 25,
     "metadata": {},
     "output_type": "execute_result"
    }
   ],
   "source": [
    "\n",
    "hashtags =[]\n",
    "for hashtag_list in tweets_df['hashtags']:\n",
    "    hashtag_list = hashtag_list.split(\"___\")\n",
    "    for hashtag in hashtag_list:\n",
    "        if hashtag != \" \" and hashtag != \"\":\n",
    "            hashtags.append(hashtag)\n",
    "hashtag_df = pd.DataFrame(hashtags, columns=['hashtags'])\n",
    "# hashtag_df.head()\n",
    "hashtag_df['hashtags'].value_counts()"
   ]
  },
  {
   "cell_type": "code",
   "execution_count": 26,
   "metadata": {},
   "outputs": [
    {
     "data": {
      "image/png": "[encoded data removed]",
      "text/plain": [
       "<Figure size 432x288 with 1 Axes>"
      ]
     },
     "metadata": {
      "needs_background": "light"
     },
     "output_type": "display_data"
    }
   ],
   "source": [
    "hashtag_df['hashtags'].value_counts().head().plot(kind=\"bar\");"
   ]
  },
  {
   "cell_type": "markdown",
   "metadata": {},
   "source": [
    "# User Mentions Plot "
   ]
  },
  {
   "cell_type": "code",
   "execution_count": 27,
   "metadata": {},
   "outputs": [
    {
     "data": {
      "text/plain": [
       "AITCofficial       327\n",
       "MamataOfficial     238\n",
       "Marvin_Inu         233\n",
       "_                  194\n",
       "ETPrime_com        175\n",
       "                  ... \n",
       "WealthfulMind        1\n",
       "Craftmastah          1\n",
       "PeterLBrandt         1\n",
       "MinerDeck            1\n",
       "kenklippenstein      1\n",
       "Name: user_mentions, Length: 8023, dtype: int64"
      ]
     },
     "execution_count": 27,
     "metadata": {},
     "output_type": "execute_result"
    }
   ],
   "source": [
    "user_mentions=[]\n",
    "for user_mention_list in tweets_df['user_mentions']:\n",
    "    user_mention_list = user_mention_list.split(\"___\")\n",
    "    for user_mention in user_mention_list:\n",
    "        if user_mention != \" \" and user_mention != \"\":\n",
    "            user_mentions.append(user_mention)\n",
    "user_mention_df = pd.DataFrame(user_mentions, columns=['user_mentions'])\n",
    "# hashtag_df.head()\n",
    "user_mention_df['user_mentions'].value_counts()"
   ]
  },
  {
   "cell_type": "code",
   "execution_count": 28,
   "metadata": {},
   "outputs": [
    {
     "data": {
      "image/png": "[encoded data removed]",
      "text/plain": [
       "<Figure size 432x288 with 1 Axes>"
      ]
     },
     "metadata": {
      "needs_background": "light"
     },
     "output_type": "display_data"
    }
   ],
   "source": [
    "user_mention_df['user_mentions'].value_counts().head(10).plot(kind=\"bar\");"
   ]
  }
 ],
 "metadata": {
  "kernelspec": {
   "display_name": "Python 3",
   "language": "python",
   "name": "python3"
  },
  "language_info": {
   "codemirror_mode": {
    "name": "ipython",
    "version": 3
   },
   "file_extension": ".py",
   "mimetype": "text/x-python",
   "name": "python",
   "nbconvert_exporter": "python",
   "pygments_lexer": "ipython3",
   "version": "3.8.3"
  }
 },
 "nbformat": 4,
 "nbformat_minor": 4
}
