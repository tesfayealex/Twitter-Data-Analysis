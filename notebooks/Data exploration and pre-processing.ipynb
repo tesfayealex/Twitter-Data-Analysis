{
 "cells": [
  {
   "cell_type": "markdown",
   "metadata": {},
   "source": [
    "# Import Important Modules "
   ]
  },
  {
   "cell_type": "code",
   "execution_count": 1,
   "metadata": {},
   "outputs": [],
   "source": [
    "import pandas as pd\n",
    "import sys\n",
    "import os\n",
    "\n",
    "sys.path.append(os.path.abspath(os.path.join('..')))\n",
    "\n",
    "from extract_dataframe import TweetDfExtractor\n",
    "from extract_dataframe import read_json\n",
    "\n",
    "_, tweet_list = read_json(\"../data/Economic_Twitter_Data.json\")"
   ]
  },
  {
   "cell_type": "markdown",
   "metadata": {},
   "source": [
    "# Initialize Extractor Instance and Get Data"
   ]
  },
  {
   "cell_type": "code",
   "execution_count": 2,
   "metadata": {},
   "outputs": [],
   "source": [
    "tweets_df_extractor = TweetDfExtractor(tweet_list)\n",
    "tweets_df = tweets_df_extractor.get_tweet_df()"
   ]
  },
  {
   "cell_type": "code",
   "execution_count": 3,
   "metadata": {},
   "outputs": [
    {
     "data": {
      "text/html": [
       "<div>\n",
       "<style scoped>\n",
       "    .dataframe tbody tr th:only-of-type {\n",
       "        vertical-align: middle;\n",
       "    }\n",
       "\n",
       "    .dataframe tbody tr th {\n",
       "        vertical-align: top;\n",
       "    }\n",
       "\n",
       "    .dataframe thead th {\n",
       "        text-align: right;\n",
       "    }\n",
       "</style>\n",
       "<table border=\"1\" class=\"dataframe\">\n",
       "  <thead>\n",
       "    <tr style=\"text-align: right;\">\n",
       "      <th></th>\n",
       "      <th>created_at</th>\n",
       "      <th>source</th>\n",
       "      <th>original_text</th>\n",
       "      <th>polarity</th>\n",
       "      <th>subjectivity</th>\n",
       "      <th>lang</th>\n",
       "      <th>favorite_count</th>\n",
       "      <th>retweet_count</th>\n",
       "      <th>original_author</th>\n",
       "      <th>followers_count</th>\n",
       "      <th>friends_count</th>\n",
       "      <th>possibly_sensitive</th>\n",
       "      <th>hashtags</th>\n",
       "      <th>user_mentions</th>\n",
       "      <th>place</th>\n",
       "    </tr>\n",
       "  </thead>\n",
       "  <tbody>\n",
       "    <tr>\n",
       "      <th>0</th>\n",
       "      <td>Fri Apr 22 22:20:18 +0000 2022</td>\n",
       "      <td>&lt;a href=\"http://twitter.com/download/android\" ...</td>\n",
       "      <td>RT @nikitheblogger: Irre: Annalena Baerbock sa...</td>\n",
       "      <td>0.0</td>\n",
       "      <td>0.0</td>\n",
       "      <td>de</td>\n",
       "      <td>113</td>\n",
       "      <td>355</td>\n",
       "      <td>McMc74078966</td>\n",
       "      <td>3</td>\n",
       "      <td>12</td>\n",
       "      <td>None</td>\n",
       "      <td></td>\n",
       "      <td>nikitheblogger___</td>\n",
       "      <td></td>\n",
       "    </tr>\n",
       "    <tr>\n",
       "      <th>1</th>\n",
       "      <td>Fri Apr 22 22:19:16 +0000 2022</td>\n",
       "      <td>&lt;a href=\"http://twitter.com/download/android\" ...</td>\n",
       "      <td>RT @sagt_mit: Merkel schaffte es in 1 Jahr 1 M...</td>\n",
       "      <td>0.0</td>\n",
       "      <td>0.0</td>\n",
       "      <td>de</td>\n",
       "      <td>113</td>\n",
       "      <td>505</td>\n",
       "      <td>McMc74078966</td>\n",
       "      <td>3</td>\n",
       "      <td>12</td>\n",
       "      <td>None</td>\n",
       "      <td></td>\n",
       "      <td>sagt_mit___</td>\n",
       "      <td></td>\n",
       "    </tr>\n",
       "    <tr>\n",
       "      <th>2</th>\n",
       "      <td>Fri Apr 22 22:17:28 +0000 2022</td>\n",
       "      <td>&lt;a href=\"http://twitter.com/download/android\" ...</td>\n",
       "      <td>RT @Kryptonoun: @WRi007 Pharma in Lebensmittel...</td>\n",
       "      <td>0.0</td>\n",
       "      <td>0.0</td>\n",
       "      <td>de</td>\n",
       "      <td>113</td>\n",
       "      <td>4</td>\n",
       "      <td>McMc74078966</td>\n",
       "      <td>3</td>\n",
       "      <td>12</td>\n",
       "      <td>None</td>\n",
       "      <td></td>\n",
       "      <td>Kryptonoun___WRi007___</td>\n",
       "      <td></td>\n",
       "    </tr>\n",
       "    <tr>\n",
       "      <th>3</th>\n",
       "      <td>Fri Apr 22 22:17:20 +0000 2022</td>\n",
       "      <td>&lt;a href=\"http://twitter.com/download/android\" ...</td>\n",
       "      <td>RT @WRi007: Die #Deutschen sind ein braves Vol...</td>\n",
       "      <td>0.0</td>\n",
       "      <td>0.0</td>\n",
       "      <td>de</td>\n",
       "      <td>113</td>\n",
       "      <td>332</td>\n",
       "      <td>McMc74078966</td>\n",
       "      <td>3</td>\n",
       "      <td>12</td>\n",
       "      <td>None</td>\n",
       "      <td>Deutschen___Spritpreisen___inflation___Abgaben___</td>\n",
       "      <td>WRi007___</td>\n",
       "      <td></td>\n",
       "    </tr>\n",
       "    <tr>\n",
       "      <th>4</th>\n",
       "      <td>Fri Apr 22 22:13:15 +0000 2022</td>\n",
       "      <td>&lt;a href=\"http://twitter.com/download/android\" ...</td>\n",
       "      <td>RT @RolandTichy: Baerbock verkündet mal so neb...</td>\n",
       "      <td>0.0</td>\n",
       "      <td>0.0</td>\n",
       "      <td>de</td>\n",
       "      <td>113</td>\n",
       "      <td>386</td>\n",
       "      <td>McMc74078966</td>\n",
       "      <td>3</td>\n",
       "      <td>12</td>\n",
       "      <td>None</td>\n",
       "      <td></td>\n",
       "      <td>RolandTichy___</td>\n",
       "      <td></td>\n",
       "    </tr>\n",
       "  </tbody>\n",
       "</table>\n",
       "</div>"
      ],
      "text/plain": [
       "                       created_at  \\\n",
       "0  Fri Apr 22 22:20:18 +0000 2022   \n",
       "1  Fri Apr 22 22:19:16 +0000 2022   \n",
       "2  Fri Apr 22 22:17:28 +0000 2022   \n",
       "3  Fri Apr 22 22:17:20 +0000 2022   \n",
       "4  Fri Apr 22 22:13:15 +0000 2022   \n",
       "\n",
       "                                              source  \\\n",
       "0  <a href=\"http://twitter.com/download/android\" ...   \n",
       "1  <a href=\"http://twitter.com/download/android\" ...   \n",
       "2  <a href=\"http://twitter.com/download/android\" ...   \n",
       "3  <a href=\"http://twitter.com/download/android\" ...   \n",
       "4  <a href=\"http://twitter.com/download/android\" ...   \n",
       "\n",
       "                                       original_text  polarity  subjectivity  \\\n",
       "0  RT @nikitheblogger: Irre: Annalena Baerbock sa...       0.0           0.0   \n",
       "1  RT @sagt_mit: Merkel schaffte es in 1 Jahr 1 M...       0.0           0.0   \n",
       "2  RT @Kryptonoun: @WRi007 Pharma in Lebensmittel...       0.0           0.0   \n",
       "3  RT @WRi007: Die #Deutschen sind ein braves Vol...       0.0           0.0   \n",
       "4  RT @RolandTichy: Baerbock verkündet mal so neb...       0.0           0.0   \n",
       "\n",
       "  lang  favorite_count  retweet_count original_author  followers_count  \\\n",
       "0   de             113            355    McMc74078966                3   \n",
       "1   de             113            505    McMc74078966                3   \n",
       "2   de             113              4    McMc74078966                3   \n",
       "3   de             113            332    McMc74078966                3   \n",
       "4   de             113            386    McMc74078966                3   \n",
       "\n",
       "   friends_count possibly_sensitive  \\\n",
       "0             12               None   \n",
       "1             12               None   \n",
       "2             12               None   \n",
       "3             12               None   \n",
       "4             12               None   \n",
       "\n",
       "                                            hashtags           user_mentions  \\\n",
       "0                                                          nikitheblogger___   \n",
       "1                                                                sagt_mit___   \n",
       "2                                                     Kryptonoun___WRi007___   \n",
       "3  Deutschen___Spritpreisen___inflation___Abgaben___               WRi007___   \n",
       "4                                                             RolandTichy___   \n",
       "\n",
       "  place  \n",
       "0        \n",
       "1        \n",
       "2        \n",
       "3        \n",
       "4        "
      ]
     },
     "execution_count": 3,
     "metadata": {},
     "output_type": "execute_result"
    }
   ],
   "source": [
    "tweets_df.head()"
   ]
  },
  {
   "cell_type": "markdown",
   "metadata": {},
   "source": [
    "# Initialize Tweet Data Cleaner"
   ]
  },
  {
   "cell_type": "code",
   "execution_count": 4,
   "metadata": {},
   "outputs": [
    {
     "name": "stdout",
     "output_type": "stream",
     "text": [
      "Automation in Action...!!!\n"
     ]
    }
   ],
   "source": [
    "from clean_tweets_dataframe import Clean_Tweets\n",
    "clean_tweets = Clean_Tweets(tweets_df)"
   ]
  },
  {
   "cell_type": "markdown",
   "metadata": {},
   "source": [
    "# Drop Duplicates"
   ]
  },
  {
   "cell_type": "code",
   "execution_count": 5,
   "metadata": {},
   "outputs": [
    {
     "data": {
      "text/plain": [
       "(24625, 15)"
      ]
     },
     "execution_count": 5,
     "metadata": {},
     "output_type": "execute_result"
    }
   ],
   "source": [
    "tweets_df = clean_tweets.drop_duplicate(tweets_df)\n",
    "tweets_df.shape"
   ]
  },
  {
   "cell_type": "markdown",
   "metadata": {},
   "source": [
    "# Remove Non English"
   ]
  },
  {
   "cell_type": "code",
   "execution_count": 6,
   "metadata": {},
   "outputs": [
    {
     "data": {
      "text/plain": [
       "(16472, 15)"
      ]
     },
     "execution_count": 6,
     "metadata": {},
     "output_type": "execute_result"
    }
   ],
   "source": [
    "tweets_df = clean_tweets.remove_non_english_tweets(tweets_df)\n",
    "tweets_df.shape"
   ]
  },
  {
   "cell_type": "code",
   "execution_count": 7,
   "metadata": {},
   "outputs": [
    {
     "data": {
      "text/plain": [
       "created_at                0\n",
       "source                    0\n",
       "original_text             0\n",
       "polarity                  0\n",
       "subjectivity              0\n",
       "lang                      0\n",
       "favorite_count            0\n",
       "retweet_count             0\n",
       "original_author           0\n",
       "followers_count           0\n",
       "friends_count             0\n",
       "possibly_sensitive    10266\n",
       "hashtags                  0\n",
       "user_mentions             0\n",
       "place                     0\n",
       "dtype: int64"
      ]
     },
     "execution_count": 7,
     "metadata": {},
     "output_type": "execute_result"
    }
   ],
   "source": [
    "tweets_df.isna().sum()"
   ]
  },
  {
   "cell_type": "markdown",
   "metadata": {},
   "source": [
    "# Handle Missing Data"
   ]
  },
  {
   "cell_type": "code",
   "execution_count": 8,
   "metadata": {},
   "outputs": [
    {
     "data": {
      "text/plain": [
       "created_at            0\n",
       "source                0\n",
       "original_text         0\n",
       "polarity              0\n",
       "subjectivity          0\n",
       "lang                  0\n",
       "favorite_count        0\n",
       "retweet_count         0\n",
       "original_author       0\n",
       "followers_count       0\n",
       "friends_count         0\n",
       "possibly_sensitive    0\n",
       "hashtags              0\n",
       "user_mentions         0\n",
       "place                 0\n",
       "dtype: int64"
      ]
     },
     "execution_count": 8,
     "metadata": {},
     "output_type": "execute_result"
    }
   ],
   "source": [
    "tweets_df['possibly_sensitive'] = tweets_df['possibly_sensitive'].fillna(\"not_found\")\n",
    "tweets_df.isna().sum()"
   ]
  },
  {
   "cell_type": "markdown",
   "metadata": {},
   "source": [
    "# Remove Unwanted Characters"
   ]
  },
  {
   "cell_type": "code",
   "execution_count": 9,
   "metadata": {},
   "outputs": [],
   "source": [
    "tweets_df = clean_tweets.remove_place_characters(tweets_df)"
   ]
  },
  {
   "cell_type": "markdown",
   "metadata": {},
   "source": [
    "# Convert Date Time"
   ]
  },
  {
   "cell_type": "code",
   "execution_count": 10,
   "metadata": {},
   "outputs": [
    {
     "name": "stdout",
     "output_type": "stream",
     "text": [
      "<class 'pandas.core.frame.DataFrame'>\n",
      "Int64Index: 16374 entries, 38 to 24622\n",
      "Data columns (total 15 columns):\n",
      " #   Column              Non-Null Count  Dtype              \n",
      "---  ------              --------------  -----              \n",
      " 0   created_at          16374 non-null  datetime64[ns, UTC]\n",
      " 1   source              16374 non-null  object             \n",
      " 2   original_text       16374 non-null  object             \n",
      " 3   polarity            16374 non-null  float64            \n",
      " 4   subjectivity        16374 non-null  float64            \n",
      " 5   lang                16374 non-null  object             \n",
      " 6   favorite_count      16374 non-null  int64              \n",
      " 7   retweet_count       16374 non-null  int64              \n",
      " 8   original_author     16374 non-null  object             \n",
      " 9   followers_count     16374 non-null  int64              \n",
      " 10  friends_count       16374 non-null  int64              \n",
      " 11  possibly_sensitive  16374 non-null  object             \n",
      " 12  hashtags            16374 non-null  object             \n",
      " 13  user_mentions       16374 non-null  object             \n",
      " 14  place               16374 non-null  object             \n",
      "dtypes: datetime64[ns, UTC](1), float64(2), int64(4), object(8)\n",
      "memory usage: 2.0+ MB\n"
     ]
    }
   ],
   "source": [
    "tweets_df = clean_tweets.convert_to_datetime(tweets_df)\n",
    "tweets_df.info()"
   ]
  },
  {
   "cell_type": "markdown",
   "metadata": {},
   "source": [
    "# Clean Sorce Device Data"
   ]
  },
  {
   "cell_type": "code",
   "execution_count": 11,
   "metadata": {},
   "outputs": [],
   "source": [
    "import re\n",
    "df = tweets_df[\"source\"].apply(clean_tweets.extract_twitter_source)\n"
   ]
  },
  {
   "cell_type": "markdown",
   "metadata": {},
   "source": [
    "# Save pre processing data"
   ]
  },
  {
   "cell_type": "code",
   "execution_count": 12,
   "metadata": {},
   "outputs": [],
   "source": [
    "tweets_df.to_csv(\"../data/processed_data_tweets.csv\", index=False)"
   ]
  },
  {
   "cell_type": "code",
   "execution_count": null,
   "metadata": {},
   "outputs": [],
   "source": []
  }
 ],
 "metadata": {
  "kernelspec": {
   "display_name": "Python 3",
   "language": "python",
   "name": "python3"
  },
  "language_info": {
   "codemirror_mode": {
    "name": "ipython",
    "version": 3
   },
   "file_extension": ".py",
   "mimetype": "text/x-python",
   "name": "python",
   "nbconvert_exporter": "python",
   "pygments_lexer": "ipython3",
   "version": "3.8.3"
  }
 },
 "nbformat": 4,
 "nbformat_minor": 4
}
